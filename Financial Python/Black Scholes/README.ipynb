{
 "cells": [
  {
   "cell_type": "markdown",
   "metadata": {},
   "source": [
    "# Black Scholes\n",
    "<br/>\n",
    "### Formulae:\n",
    "[http://www.macroption.com/black-scholes-formula/](http://www.macroption.com/black-scholes-formula/)\n",
    "\n",
    "### Online Calculator:\n",
    "[http://www.calkoo.com/?lang=3&page=29](http://www.calkoo.com/?lang=3&page=29)\n",
    "\n",
    "### Description:\n",
    "[https://en.wikipedia.org/wiki/Black–Scholes_model](https://en.wikipedia.org/wiki/Black–Scholes_model)"
   ]
  }
 ],
 "metadata": {
  "kernelspec": {
   "display_name": "Python 2",
   "language": "python",
   "name": "python2"
  },
  "language_info": {
   "codemirror_mode": {
    "name": "ipython",
    "version": 2
   },
   "file_extension": ".py",
   "mimetype": "text/x-python",
   "name": "python",
   "nbconvert_exporter": "python",
   "pygments_lexer": "ipython2",
   "version": "2.7.6"
  }
 },
 "nbformat": 4,
 "nbformat_minor": 0
}
