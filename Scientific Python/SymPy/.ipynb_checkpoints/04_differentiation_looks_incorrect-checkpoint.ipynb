{
 "cells": [
  {
   "cell_type": "code",
   "execution_count": null,
   "metadata": {
    "collapsed": true
   },
   "outputs": [],
   "source": [
    "import sympy\n",
    "from sympy import sqrt, diff\n",
    "sympy.init_printing()"
   ]
  },
  {
   "cell_type": "code",
   "execution_count": null,
   "metadata": {
    "collapsed": true
   },
   "outputs": [],
   "source": [
    "def phi (x, y, sigma):\n",
    "    return sqrt(x**2 + y**2 + sigma**2)\n",
    "\n",
    "\n",
    "x, y, sigma = sympy.symbols('x, y, sigma')\n",
    "\n",
    "# we are working with the function:\n",
    "#  f(x, y, sigma) = (x**2 + y**2 + sigma**2)**0.5\n",
    "#\n",
    "#  => df/dx = 0.5*(x**2 + y**2 + sigma**2)**-0.5 * 2*x \n",
    "#           = x / (x**2 + y**2 + sigma**2)**0.5\n",
    "\n",
    "# define the differential (dfdx):\n",
    "r = sqrt(x**2 + y**2)\n",
    "dfdx = x / sqrt(r**2 + sigma**2)\n"
   ]
  },
  {
   "cell_type": "code",
   "execution_count": null,
   "metadata": {
    "collapsed": true
   },
   "outputs": [],
   "source": []
  }
 ],
 "metadata": {
  "kernelspec": {
   "display_name": "Python 2",
   "language": "python",
   "name": "python2"
  },
  "language_info": {
   "codemirror_mode": {
    "name": "ipython",
    "version": 2
   },
   "file_extension": ".py",
   "mimetype": "text/x-python",
   "name": "python",
   "nbconvert_exporter": "python",
   "pygments_lexer": "ipython2",
   "version": "2.7.6"
  }
 },
 "nbformat": 4,
 "nbformat_minor": 0
}
