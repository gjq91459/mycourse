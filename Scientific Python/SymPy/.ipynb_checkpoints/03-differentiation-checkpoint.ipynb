{
 "cells": [
  {
   "cell_type": "markdown",
   "metadata": {},
   "source": [
    "# Differentiation"
   ]
  },
  {
   "cell_type": "code",
   "execution_count": null,
   "metadata": {
    "collapsed": false
   },
   "outputs": [],
   "source": [
    "# various differentials\n",
    "\n",
    "from sympy import Derivative, symbols, exp, sin, sqrt, diff\n",
    "import sympy\n",
    "sympy.init_printing()\n",
    "x, y = symbols('x, y')\n",
    "Derivative( sin(x), x ), diff( sin(x), x )"
   ]
  },
  {
   "cell_type": "code",
   "execution_count": null,
   "metadata": {
    "collapsed": false
   },
   "outputs": [],
   "source": [
    "expression = 10 + 3*x + 4*y + 10*x**2 + x**9\n",
    "Derivative(expression, x), diff(expression, x)"
   ]
  },
  {
   "cell_type": "code",
   "execution_count": null,
   "metadata": {
    "collapsed": false
   },
   "outputs": [],
   "source": [
    "# evaluate when x = 1.5\n",
    "Derivative(expression, x), diff(expression, x).subs(x, 1.5)"
   ]
  },
  {
   "cell_type": "code",
   "execution_count": null,
   "metadata": {
    "collapsed": false
   },
   "outputs": [],
   "source": [
    "Derivative(exp(-x**2/2), x), diff(exp(-x**2/2), x)"
   ]
  },
  {
   "cell_type": "code",
   "execution_count": null,
   "metadata": {
    "collapsed": false
   },
   "outputs": [],
   "source": [
    "# now for triple differentials\n",
    "Derivative(3*x**4, x, x, x), diff(3*x**4, x, x, x)"
   ]
  },
  {
   "cell_type": "code",
   "execution_count": null,
   "metadata": {
    "collapsed": false
   },
   "outputs": [],
   "source": [
    "# alternative notation for the above\n",
    "Derivative(3*x**4, x, 3), diff(3*x**4, x, 3)"
   ]
  }
 ],
 "metadata": {
  "kernelspec": {
   "display_name": "Python 2",
   "language": "python",
   "name": "python2"
  },
  "language_info": {
   "codemirror_mode": {
    "name": "ipython",
    "version": 2
   },
   "file_extension": ".py",
   "mimetype": "text/x-python",
   "name": "python",
   "nbconvert_exporter": "python",
   "pygments_lexer": "ipython2",
   "version": "2.7.6"
  }
 },
 "nbformat": 4,
 "nbformat_minor": 0
}
