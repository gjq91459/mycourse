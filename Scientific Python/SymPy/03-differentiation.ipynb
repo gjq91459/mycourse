{
 "cells": [
  {
   "cell_type": "markdown",
   "metadata": {},
   "source": [
    "# Differentiation"
   ]
  },
  {
   "cell_type": "code",
   "execution_count": 1,
   "metadata": {
    "collapsed": false
   },
   "outputs": [
    {
     "data": {
      "image/png": "[encoded data removed]",
      "text/latex": [
       "$$\\left ( \\frac{d}{d x} \\sin{\\left (x \\right )}, \\quad \\cos{\\left (x \\right )}\\right )$$"
      ],
      "text/plain": [
       "⎛d                 ⎞\n",
       "⎜──(sin(x)), cos(x)⎟\n",
       "⎝dx                ⎠"
      ]
     },
     "execution_count": 1,
     "metadata": {},
     "output_type": "execute_result"
    }
   ],
   "source": [
    "# various differentials\n",
    "\n",
    "from sympy import Derivative, symbols, exp, sin, sqrt, diff\n",
    "import sympy\n",
    "sympy.init_printing()\n",
    "x, y = symbols('x, y')\n",
    "Derivative( sin(x), x ), diff( sin(x), x )"
   ]
  },
  {
   "cell_type": "code",
   "execution_count": 2,
   "metadata": {
    "collapsed": false
   },
   "outputs": [
    {
     "data": {
      "image/png": "[encoded data removed]",
      "text/latex": [
       "$$\\left ( \\frac{\\partial}{\\partial x}\\left(x^{9} + 10 x^{2} + 3 x + 4 y + 10\\right), \\quad 9 x^{8} + 20 x + 3\\right )$$"
      ],
      "text/plain": [
       "⎛∂ ⎛ 9       2                 ⎞     8           ⎞\n",
       "⎜──⎝x  + 10⋅x  + 3⋅x + 4⋅y + 10⎠, 9⋅x  + 20⋅x + 3⎟\n",
       "⎝∂x                                              ⎠"
      ]
     },
     "execution_count": 2,
     "metadata": {},
     "output_type": "execute_result"
    }
   ],
   "source": [
    "expression = 10 + 3*x + 4*y + 10*x**2 + x**9\n",
    "Derivative(expression, x), diff(expression, x)"
   ]
  },
  {
   "cell_type": "code",
   "execution_count": null,
   "metadata": {
    "collapsed": false
   },
   "outputs": [],
   "source": [
    "# evaluate when x = 1.5\n",
    "Derivative(expression, x), diff(expression, x).subs(x, 1.5)"
   ]
  },
  {
   "cell_type": "code",
   "execution_count": null,
   "metadata": {
    "collapsed": false
   },
   "outputs": [],
   "source": [
    "Derivative(exp(-x**2/2), x), diff(exp(-x**2/2), x)"
   ]
  },
  {
   "cell_type": "code",
   "execution_count": null,
   "metadata": {
    "collapsed": false
   },
   "outputs": [],
   "source": [
    "# now for triple differentials\n",
    "Derivative(3*x**4, x, x, x), diff(3*x**4, x, x, x)"
   ]
  },
  {
   "cell_type": "code",
   "execution_count": 3,
   "metadata": {
    "collapsed": false
   },
   "outputs": [
    {
     "data": {
      "image/png": "[encoded data removed]",
      "text/latex": [
       "$$\\left ( \\frac{d^{3}}{d x^{3}} \\left(3 x^{4}\\right), \\quad 72 x\\right )$$"
      ],
      "text/plain": [
       "⎛  3            ⎞\n",
       "⎜ d ⎛   4⎞      ⎟\n",
       "⎜───⎝3⋅x ⎠, 72⋅x⎟\n",
       "⎜  3            ⎟\n",
       "⎝dx             ⎠"
      ]
     },
     "execution_count": 3,
     "metadata": {},
     "output_type": "execute_result"
    }
   ],
   "source": [
    "# alternative notation for the above\n",
    "Derivative(3*x**4, x, 3), diff(3*x**4, x, 3)"
   ]
  },
  {
   "cell_type": "code",
   "execution_count": null,
   "metadata": {
    "collapsed": true
   },
   "outputs": [],
   "source": []
  }
 ],
 "metadata": {
  "anaconda-cloud": {},
  "kernelspec": {
   "display_name": "Python [Root]",
   "language": "python",
   "name": "Python [Root]"
  },
  "language_info": {
   "codemirror_mode": {
    "name": "ipython",
    "version": 3
   },
   "file_extension": ".py",
   "mimetype": "text/x-python",
   "name": "python",
   "nbconvert_exporter": "python",
   "pygments_lexer": "ipython3",
   "version": "3.5.2"
  }
 },
 "nbformat": 4,
 "nbformat_minor": 0
}
