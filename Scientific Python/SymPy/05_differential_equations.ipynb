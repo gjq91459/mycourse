{
 "cells": [
  {
   "cell_type": "markdown",
   "metadata": {},
   "source": [
    "# Solving Differential Equations\n",
    "\n",
    "Attempt to solve the differential equation:\n",
    "$$dy/dx + 5y = 12$$\n",
    "for y    \n",
    "\n",
    "Analytical solution procedes as follows:\n",
    "$$dy/dx + 5y = 12$$\n",
    "$$dy/y = -5dx$$\n",
    "$$ln(y) = -5x + C$$\n",
    "$$y = exp(-5x + C)$$\n",
    "$$y = C_1*exp(-5x)$$"
   ]
  },
  {
   "cell_type": "code",
   "execution_count": 4,
   "metadata": {
    "collapsed": false
   },
   "outputs": [
    {
     "data": {
      "image/png": "[encoded data removed]",
      "text/latex": [
       "$$5 y{\\left (x \\right )} + \\frac{d}{d x} y{\\left (x \\right )} = 0$$"
      ],
      "text/plain": [
       "         d           \n",
       "5⋅y(x) + ──(y(x)) = 0\n",
       "         dx          "
      ]
     },
     "execution_count": 4,
     "metadata": {},
     "output_type": "execute_result"
    }
   ],
   "source": [
    "import sympy\n",
    "from sympy import Symbol , dsolve , Function , Derivative , Eq\n",
    "sympy.init_printing()\n",
    "\n",
    "x , y , z = sympy.symbols('x, y, z')\n",
    "\n",
    "y = Function(\"y\")\n",
    "x = Symbol(\"x\")\n",
    "d = Derivative(y(x), x)\n",
    "Eq(d + 5*y(x), 0)"
   ]
  },
  {
   "cell_type": "code",
   "execution_count": 2,
   "metadata": {
    "collapsed": false
   },
   "outputs": [
    {
     "data": {
      "image/png": "[encoded data removed]",
      "text/latex": [
       "$$y{\\left (x \\right )} = C_{1} e^{- 5 x}$$"
      ],
      "text/plain": [
       "           -5⋅x\n",
       "y(x) = C₁⋅ℯ    "
      ]
     },
     "execution_count": 2,
     "metadata": {},
     "output_type": "execute_result"
    }
   ],
   "source": [
    "# the solution ...\n",
    "C1 = Symbol(\"C1\")\n",
    "dsolve(d + 5*y(x), y(x))"
   ]
  },
  {
   "cell_type": "code",
   "execution_count": 3,
   "metadata": {
    "collapsed": false
   },
   "outputs": [
    {
     "data": {
      "image/png": "[encoded data removed]",
      "text/latex": [
       "$$y{\\left (x \\right )} = C_{1} e^{- 5 x}$$"
      ],
      "text/plain": [
       "           -5⋅x\n",
       "y(x) = C₁⋅ℯ    "
      ]
     },
     "execution_count": 3,
     "metadata": {},
     "output_type": "execute_result"
    }
   ],
   "source": [
    "# more verbose syntax\n",
    "dsolve( Eq(d + 5*y(x), 0), y(x))"
   ]
  },
  {
   "cell_type": "code",
   "execution_count": 5,
   "metadata": {
    "collapsed": false
   },
   "outputs": [
    {
     "data": {
      "image/png": "[encoded data removed]",
      "text/latex": [
       "$$5 y{\\left (x \\right )} + \\frac{d}{d x} y{\\left (x \\right )} = 12$$"
      ],
      "text/plain": [
       "         d            \n",
       "5⋅y(x) + ──(y(x)) = 12\n",
       "         dx           "
      ]
     },
     "execution_count": 5,
     "metadata": {},
     "output_type": "execute_result"
    }
   ],
   "source": [
    "# now solve:\n",
    "Eq(d + 5*y(x), 12)"
   ]
  },
  {
   "cell_type": "code",
   "execution_count": 6,
   "metadata": {
    "collapsed": false
   },
   "outputs": [
    {
     "data": {
      "image/png": "[encoded data removed]",
      "text/latex": [
       "$$y{\\left (5 \\right )} = \\frac{2}{5 e^{25}} + \\frac{12}{5}$$"
      ],
      "text/plain": [
       "          -25     \n",
       "       2⋅ℯ      12\n",
       "y(5) = ────── + ──\n",
       "         5      5 "
      ]
     },
     "execution_count": 6,
     "metadata": {},
     "output_type": "execute_result"
    }
   ],
   "source": [
    "# constant = 2, x = 5\n",
    "dsolve( Eq(d + 5*y(x), 12), y(x)).subs({C1:2, x:5})"
   ]
  },
  {
   "cell_type": "code",
   "execution_count": 7,
   "metadata": {
    "collapsed": false
   },
   "outputs": [
    {
     "data": {
      "image/png": "[encoded data removed]",
      "text/latex": [
       "$$y{\\left (5 \\right )} = 2.4000000000055551775$$"
      ],
      "text/plain": [
       "y(5) = 2.4000000000055551775"
      ]
     },
     "execution_count": 7,
     "metadata": {},
     "output_type": "execute_result"
    }
   ],
   "source": [
    "# to 20 significant figures ...\n",
    "dsolve( Eq(d + 5*y(x), 12), y(x)).subs({C1:2, x:5}).evalf(20)"
   ]
  },
  {
   "cell_type": "code",
   "execution_count": null,
   "metadata": {
    "collapsed": true
   },
   "outputs": [],
   "source": []
  }
 ],
 "metadata": {
  "kernelspec": {
   "display_name": "Python 2",
   "language": "python",
   "name": "python2"
  },
  "language_info": {
   "codemirror_mode": {
    "name": "ipython",
    "version": 2
   },
   "file_extension": ".py",
   "mimetype": "text/x-python",
   "name": "python",
   "nbconvert_exporter": "python",
   "pygments_lexer": "ipython2",
   "version": "2.7.6"
  }
 },
 "nbformat": 4,
 "nbformat_minor": 0
}
