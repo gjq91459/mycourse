{
 "cells": [
  {
   "cell_type": "markdown",
   "metadata": {},
   "source": [
    "# Taylor Series Expansion"
   ]
  },
  {
   "cell_type": "code",
   "execution_count": 1,
   "metadata": {
    "collapsed": false
   },
   "outputs": [],
   "source": [
    "import sympy\n",
    "from sympy import Symbol, Rational, cos, sin, series\n",
    "sympy.init_printing()\n",
    "\n",
    "x = Symbol('x') "
   ]
  },
  {
   "cell_type": "code",
   "execution_count": 2,
   "metadata": {
    "collapsed": false
   },
   "outputs": [
    {
     "data": {
      "image/png": "[encoded data removed]",
      "text/latex": [
       "$$1.1173 - 0.43879 \\left(x - 0.5\\right)^{2} + 0.079904 \\left(x - 0.5\\right)^{3} + 0.036566 \\left(x - 0.5\\right)^{4} - 0.0039952 \\left(x - 0.5\\right)^{5} - 0.0012189 \\left(x - 0.5\\right)^{6} + 9.5124 \\cdot 10^{-5} \\left(x - 0.5\\right)^{7} + 2.1765 \\cdot 10^{-5} \\left(x - 0.5\\right)^{8} - 1.3212 \\cdot 10^{-6} \\left(x - 0.5\\right)^{9} - 0.47943 x + \\mathcal{O}\\left(\\left(x - 0.5\\right)^{10}; x\\rightarrow0.5\\right)$$"
      ],
      "text/plain": [
       "                             2                     3                     4    \n",
       "1.1173 - - -0.43879⋅(x - 0.5)  + 0.079904⋅(x - 0.5)  + 0.036566⋅(x - 0.5)  - -\n",
       "\n",
       "                     5                         6                      7       \n",
       " -0.0039952⋅(x - 0.5)  - - -0.0012189⋅(x - 0.5)  + 9.5124e-5⋅(x - 0.5)  + 2.17\n",
       "\n",
       "               8                         9                   ⎛         10     \n",
       "65e-5⋅(x - 0.5)  - - -1.3212e-6⋅(x - 0.5)  - - -0.47943⋅x + O⎝(x - 0.5)  ; x →\n",
       "\n",
       "    ⎞\n",
       " 0.5⎠"
      ]
     },
     "execution_count": 2,
     "metadata": {},
     "output_type": "execute_result"
    }
   ],
   "source": [
    "# expand cos(x) at x = 0.5\n",
    "cos(x).series(x, 0.5, 10).evalf(5)"
   ]
  },
  {
   "cell_type": "code",
   "execution_count": 3,
   "metadata": {
    "collapsed": false
   },
   "outputs": [
    {
     "data": {
      "image/png": "[encoded data removed]",
      "text/latex": [
       "$$- 0.47943 x - 1.3212 \\cdot 10^{-6} \\left(x - 0.5\\right)^{9} + 2.1765 \\cdot 10^{-5} \\left(x - 0.5\\right)^{8} + 9.5124 \\cdot 10^{-5} \\left(x - 0.5\\right)^{7} - 0.0012189 \\left(x - 0.5\\right)^{6} - 0.0039952 \\left(x - 0.5\\right)^{5} + 0.036566 \\left(x - 0.5\\right)^{4} + 0.079904 \\left(x - 0.5\\right)^{3} - 0.43879 \\left(x - 0.5\\right)^{2} + 1.1173$$"
      ],
      "text/plain": [
       "                                      9                      8                \n",
       "-- -0.47943⋅x - - -1.3212e-6⋅(x - 0.5)  + 2.1765e-5⋅(x - 0.5)  + 9.5124e-5⋅(x \n",
       "\n",
       "      7                         6                         5                   \n",
       "- 0.5)  - - -0.0012189⋅(x - 0.5)  - - -0.0039952⋅(x - 0.5)  + 0.036566⋅(x - 0.\n",
       "\n",
       "  4                     3                       2         \n",
       "5)  + 0.079904⋅(x - 0.5)  - - -0.43879⋅(x - 0.5)  + 1.1173"
      ]
     },
     "execution_count": 3,
     "metadata": {},
     "output_type": "execute_result"
    }
   ],
   "source": [
    "# remove error terms\n",
    "cos(x).series(x, 0.5, 10).removeO().evalf(5)"
   ]
  },
  {
   "cell_type": "code",
   "execution_count": 4,
   "metadata": {
    "collapsed": false
   },
   "outputs": [
    {
     "data": {
      "image/png": "[encoded data removed]",
      "text/latex": [
       "$$\\cos{\\left (\\frac{1}{2} \\right )} - \\left(x - \\frac{1}{2}\\right) \\sin{\\left (\\frac{1}{2} \\right )} - \\frac{1}{2} \\left(x - \\frac{1}{2}\\right)^{2} \\cos{\\left (\\frac{1}{2} \\right )} + \\frac{1}{6} \\left(x - \\frac{1}{2}\\right)^{3} \\sin{\\left (\\frac{1}{2} \\right )} + \\frac{1}{24} \\left(x - \\frac{1}{2}\\right)^{4} \\cos{\\left (\\frac{1}{2} \\right )} - \\frac{1}{120} \\left(x - \\frac{1}{2}\\right)^{5} \\sin{\\left (\\frac{1}{2} \\right )} - \\frac{1}{720} \\left(x - \\frac{1}{2}\\right)^{6} \\cos{\\left (\\frac{1}{2} \\right )} + \\frac{1}{5040} \\left(x - \\frac{1}{2}\\right)^{7} \\sin{\\left (\\frac{1}{2} \\right )} + \\frac{1}{40320} \\left(x - \\frac{1}{2}\\right)^{8} \\cos{\\left (\\frac{1}{2} \\right )} - \\frac{1}{362880} \\left(x - \\frac{1}{2}\\right)^{9} \\sin{\\left (\\frac{1}{2} \\right )} + \\mathcal{O}\\left(\\left(x - \\frac{1}{2}\\right)^{10}; x\\rightarrow\\frac{1}{2}\\right)$$"
      ],
      "text/plain": [
       "                                         2                     3              \n",
       "                                (x - 1/2) ⋅cos(1/2)   (x - 1/2) ⋅sin(1/2)   (x\n",
       "cos(1/2) - (x - 1/2)⋅sin(1/2) - ─────────────────── + ─────────────────── + ──\n",
       "                                         2                     6              \n",
       "\n",
       "       4                     5                     6                     7    \n",
       " - 1/2) ⋅cos(1/2)   (x - 1/2) ⋅sin(1/2)   (x - 1/2) ⋅cos(1/2)   (x - 1/2) ⋅sin\n",
       "───────────────── - ─────────────────── - ─────────────────── + ──────────────\n",
       "       24                   120                   720                   5040  \n",
       "\n",
       "                 8                     9                                   \n",
       "(1/2)   (x - 1/2) ⋅cos(1/2)   (x - 1/2) ⋅sin(1/2)    ⎛         10         ⎞\n",
       "───── + ─────────────────── - ─────────────────── + O⎝(x - 1/2)  ; x → 1/2⎠\n",
       "               40320                 362880                                "
      ]
     },
     "execution_count": 4,
     "metadata": {},
     "output_type": "execute_result"
    }
   ],
   "source": [
    "# display as rationals \n",
    "series(cos(x), x0=Rational(0.5), n=10)"
   ]
  },
  {
   "cell_type": "code",
   "execution_count": 5,
   "metadata": {
    "collapsed": false
   },
   "outputs": [
    {
     "data": {
      "image/png": "[encoded data removed]",
      "text/latex": [
       "$$1 - \\frac{x^{2}}{2} + \\frac{x^{4}}{24} - \\frac{x^{6}}{720} + \\frac{x^{8}}{40320} + \\mathcal{O}\\left(x^{10}\\right)$$"
      ],
      "text/plain": [
       "     2    4     6      8          \n",
       "    x    x     x      x      ⎛ 10⎞\n",
       "1 - ── + ── - ─── + ───── + O⎝x  ⎠\n",
       "    2    24   720   40320         "
      ]
     },
     "execution_count": 5,
     "metadata": {},
     "output_type": "execute_result"
    }
   ],
   "source": [
    "# expand cos(x) at x = 0\n",
    "series(cos(x), x0=0, n=10)"
   ]
  },
  {
   "cell_type": "code",
   "execution_count": null,
   "metadata": {
    "collapsed": true
   },
   "outputs": [],
   "source": []
  }
 ],
 "metadata": {
  "anaconda-cloud": {},
  "kernelspec": {
   "display_name": "Python [Root]",
   "language": "python",
   "name": "Python [Root]"
  },
  "language_info": {
   "codemirror_mode": {
    "name": "ipython",
    "version": 3
   },
   "file_extension": ".py",
   "mimetype": "text/x-python",
   "name": "python",
   "nbconvert_exporter": "python",
   "pygments_lexer": "ipython3",
   "version": "3.5.2"
  }
 },
 "nbformat": 4,
 "nbformat_minor": 0
}
