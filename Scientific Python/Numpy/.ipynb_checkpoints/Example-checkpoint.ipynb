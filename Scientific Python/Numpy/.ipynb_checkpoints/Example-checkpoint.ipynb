{
 "cells": [
  {
   "cell_type": "code",
   "execution_count": 1,
   "metadata": {
    "collapsed": false
   },
   "outputs": [
    {
     "data": {
      "image/png": "[encoded data removed]",
      "text/latex": [
       "$$2 \\left(x - 3\\right)^{3}$$"
      ],
      "text/plain": [
       "         3\n",
       "2⋅(x - 3) "
      ]
     },
     "execution_count": 1,
     "metadata": {},
     "output_type": "execute_result"
    }
   ],
   "source": [
    "import sympy\n",
    "sympy.init_printing()\n",
    "\n",
    "# define symbols\n",
    "x , y , z = sympy.symbols('x, y, z')\n",
    "\n",
    "# print polynominal in two different forms \n",
    "2*(x - 3)**3"
   ]
  },
  {
   "cell_type": "code",
   "execution_count": 2,
   "metadata": {
    "collapsed": false
   },
   "outputs": [
    {
     "data": {
      "image/png": "[encoded data removed]",
      "text/latex": [
       "$$2 x^{3} - 18 x^{2} + 54 x - 54$$"
      ],
      "text/plain": [
       "   3       2            \n",
       "2⋅x  - 18⋅x  + 54⋅x - 54"
      ]
     },
     "execution_count": 2,
     "metadata": {},
     "output_type": "execute_result"
    }
   ],
   "source": [
    "(2*(x - 3)**3).expand()"
   ]
  },
  {
   "cell_type": "code",
   "execution_count": 3,
   "metadata": {
    "collapsed": false
   },
   "outputs": [
    {
     "data": {
      "image/png": "[encoded data removed]",
      "text/latex": [
       "$$256$$"
      ],
      "text/plain": [
       "256"
      ]
     },
     "execution_count": 3,
     "metadata": {},
     "output_type": "execute_result"
    }
   ],
   "source": [
    "((x + 2*y)**2).subs({x:10, y:3})"
   ]
  },
  {
   "cell_type": "code",
   "execution_count": 4,
   "metadata": {
    "collapsed": false
   },
   "outputs": [
    {
     "name": "stdout",
     "output_type": "stream",
     "text": [
      "1.11729533119247 - 0.438791280945186*(x - 0.5)**2 + 0.0799042564340338*(x - 0.5)**3 + 0.0365659400787655*(x - 0.5)**4 - 0.00399521282170169*(x - 0.5)**5 - 0.00121886466929218*(x - 0.5)**6 + 9.51241148024212e-5*(x - 0.5)**7 + 2.17654405230747e-5*(x - 0.5)**8 - 1.32116826114474e-6*(x - 0.5)**9 - 0.479425538604203*x + O((x - 0.5)**10, (x, 0.5))\n"
     ]
    }
   ],
   "source": [
    "from sympy import Symbol, Rational, cos, sin, series\n",
    "\n",
    "x = Symbol('x') \n",
    "print cos(x).series(x, 0.5, 10)"
   ]
  },
  {
   "cell_type": "code",
   "execution_count": 5,
   "metadata": {
    "collapsed": false
   },
   "outputs": [
    {
     "data": {
      "image/png": "[encoded data removed]",
      "text/latex": [
       "$$\\cos{\\left (\\frac{1}{2} \\right )} - \\left(x - \\frac{1}{2}\\right) \\sin{\\left (\\frac{1}{2} \\right )} - \\frac{1}{2} \\left(x - \\frac{1}{2}\\right)^{2} \\cos{\\left (\\frac{1}{2} \\right )} + \\frac{1}{6} \\left(x - \\frac{1}{2}\\right)^{3} \\sin{\\left (\\frac{1}{2} \\right )} + \\frac{1}{24} \\left(x - \\frac{1}{2}\\right)^{4} \\cos{\\left (\\frac{1}{2} \\right )} - \\frac{1}{120} \\left(x - \\frac{1}{2}\\right)^{5} \\sin{\\left (\\frac{1}{2} \\right )} - \\frac{1}{720} \\left(x - \\frac{1}{2}\\right)^{6} \\cos{\\left (\\frac{1}{2} \\right )} + \\frac{1}{5040} \\left(x - \\frac{1}{2}\\right)^{7} \\sin{\\left (\\frac{1}{2} \\right )} + \\frac{1}{40320} \\left(x - \\frac{1}{2}\\right)^{8} \\cos{\\left (\\frac{1}{2} \\right )} - \\frac{1}{362880} \\left(x - \\frac{1}{2}\\right)^{9} \\sin{\\left (\\frac{1}{2} \\right )} + \\mathcal{O}\\left(\\left(x - \\frac{1}{2}\\right)^{10}; x\\rightarrow\\frac{1}{2}\\right)$$"
      ],
      "text/plain": [
       "                                         2                     3              \n",
       "                                (x - 1/2) ⋅cos(1/2)   (x - 1/2) ⋅sin(1/2)   (x\n",
       "cos(1/2) - (x - 1/2)⋅sin(1/2) - ─────────────────── + ─────────────────── + ──\n",
       "                                         2                     6              \n",
       "\n",
       "       4                     5                     6                     7    \n",
       " - 1/2) ⋅cos(1/2)   (x - 1/2) ⋅sin(1/2)   (x - 1/2) ⋅cos(1/2)   (x - 1/2) ⋅sin\n",
       "───────────────── - ─────────────────── - ─────────────────── + ──────────────\n",
       "       24                   120                   720                   5040  \n",
       "\n",
       "                 8                     9                                   \n",
       "(1/2)   (x - 1/2) ⋅cos(1/2)   (x - 1/2) ⋅sin(1/2)    ⎛         10         ⎞\n",
       "───── + ─────────────────── - ─────────────────── + O⎝(x - 1/2)  ; x → 1/2⎠\n",
       "               40320                 362880                                "
      ]
     },
     "execution_count": 5,
     "metadata": {},
     "output_type": "execute_result"
    }
   ],
   "source": [
    "series(cos(x), x0=Rational(0.5), n=10)"
   ]
  },
  {
   "cell_type": "code",
   "execution_count": 6,
   "metadata": {
    "collapsed": false
   },
   "outputs": [
    {
     "name": "stdout",
     "output_type": "stream",
     "text": [
      "cos(x)\n"
     ]
    }
   ],
   "source": [
    "from sympy import symbols, exp, sin, sqrt, diff\n",
    "x, y = symbols('x, y')\n",
    "\n",
    "# various differentials\n",
    "\n",
    "print diff( sin(x), x )"
   ]
  },
  {
   "cell_type": "code",
   "execution_count": 7,
   "metadata": {
    "collapsed": false
   },
   "outputs": [
    {
     "data": {
      "image/png": "[encoded data removed]",
      "text/latex": [
       "$$9 x^{8} + 20 x + 3$$"
      ],
      "text/plain": [
       "   8           \n",
       "9⋅x  + 20⋅x + 3"
      ]
     },
     "execution_count": 7,
     "metadata": {},
     "output_type": "execute_result"
    }
   ],
   "source": [
    "diff( 10 + 3*x + 4*y + 10*x**2 + x**9, x)"
   ]
  },
  {
   "cell_type": "code",
   "execution_count": 8,
   "metadata": {
    "collapsed": false
   },
   "outputs": [
    {
     "data": {
      "image/png": "[encoded data removed]",
      "text/latex": [
       "$$e^{- \\frac{x^{2}}{2}}$$"
      ],
      "text/plain": [
       "   2 \n",
       " -x  \n",
       " ────\n",
       "  2  \n",
       "ℯ    "
      ]
     },
     "execution_count": 8,
     "metadata": {},
     "output_type": "execute_result"
    }
   ],
   "source": [
    "import sympy, matplotlib\n",
    "from sympy import Integral, integrate, sin, exp\n",
    "sympy.init_printing()\n",
    "\n",
    "x, y, sigma = sympy.symbols('x, y, sigma')\n",
    "integrate( -x * exp(-x**2/2), x )"
   ]
  },
  {
   "cell_type": "code",
   "execution_count": 9,
   "metadata": {
    "collapsed": false
   },
   "outputs": [
    {
     "data": {
      "image/png": "[encoded data removed]",
      "text/latex": [
       "$$\\int - x e^{- \\frac{x^{2}}{2}}\\, dx$$"
      ],
      "text/plain": [
       "⌠            \n",
       "⎮       2    \n",
       "⎮     -x     \n",
       "⎮     ────   \n",
       "⎮      2     \n",
       "⎮ -x⋅ℯ     dx\n",
       "⌡            "
      ]
     },
     "execution_count": 9,
     "metadata": {},
     "output_type": "execute_result"
    }
   ],
   "source": [
    "Integral( -x * exp(-x**2/2), x )"
   ]
  },
  {
   "cell_type": "code",
   "execution_count": 10,
   "metadata": {
    "collapsed": false
   },
   "outputs": [
    {
     "data": {
      "image/png": "[encoded data removed]",
      "text/latex": [
       "$$\\int_{0}^{1}\\int_{0}^{2}\\int_{0}^{2} x^{2}\\, dx\\, dx\\, dy$$"
      ],
      "text/plain": [
       "1 2 2            \n",
       "⌠ ⌠ ⌠            \n",
       "⎮ ⎮ ⎮  2         \n",
       "⎮ ⎮ ⎮ x  dx dx dy\n",
       "⌡ ⌡ ⌡            \n",
       "0 0 0            "
      ]
     },
     "execution_count": 10,
     "metadata": {},
     "output_type": "execute_result"
    }
   ],
   "source": [
    "Integral( x**2, (x, 0, 2), (x, 0, 2), (y, 0, 1) )"
   ]
  },
  {
   "cell_type": "code",
   "execution_count": 11,
   "metadata": {
    "collapsed": false
   },
   "outputs": [
    {
     "data": {
      "image/png": "[encoded data removed]",
      "text/latex": [
       "$$\\frac{16}{3}$$"
      ],
      "text/plain": [
       "16/3"
      ]
     },
     "execution_count": 11,
     "metadata": {},
     "output_type": "execute_result"
    }
   ],
   "source": [
    "integrate( x**2, (x, 0, 2), (x, 0, 2), (y, 0, 1) )"
   ]
  },
  {
   "cell_type": "code",
   "execution_count": 12,
   "metadata": {
    "collapsed": false
   },
   "outputs": [
    {
     "data": {
      "image/png": "[encoded data removed]",
      "text/latex": [
       "$$\\left [ 2.45634474007138, \\quad -1.67476050597966 - 1.0310072679116 i, \\quad -1.67476050597966 + 1.0310072679116 i, \\quad 0.446588135943972 - 2.22667969634314 i, \\quad 0.446588135943972 + 2.22667969634314 i\\right ]$$"
      ],
      "text/plain": [
       "[2.45634474007138, -1.67476050597966 - -1.0310072679116⋅(-1)⋅ⅈ, -1.67476050597\n",
       "966 + 1.0310072679116⋅ⅈ, 0.446588135943972 - -2.22667969634314⋅(-1)⋅ⅈ, 0.44658\n",
       "8135943972 + 2.22667969634314⋅ⅈ]"
      ]
     },
     "execution_count": 12,
     "metadata": {},
     "output_type": "execute_result"
    }
   ],
   "source": [
    "x, y, z = sympy.symbols('x, y, z')\n",
    "eq = x - x**2.5 + 7\n",
    "z = sympy.solve( eq, x )\n",
    "z"
   ]
  }
 ],
 "metadata": {
  "kernelspec": {
   "display_name": "Python 2",
   "language": "python",
   "name": "python2"
  },
  "language_info": {
   "codemirror_mode": {
    "name": "ipython",
    "version": 2
   },
   "file_extension": ".py",
   "mimetype": "text/x-python",
   "name": "python",
   "nbconvert_exporter": "python",
   "pygments_lexer": "ipython2",
   "version": "2.7.6"
  }
 },
 "nbformat": 4,
 "nbformat_minor": 0
}
